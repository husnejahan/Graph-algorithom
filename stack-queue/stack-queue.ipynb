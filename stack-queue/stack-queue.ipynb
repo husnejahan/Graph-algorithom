{
 "cells": [
  {
   "cell_type": "markdown",
   "metadata": {},
   "source": [
    "# STACK"
   ]
  },
  {
   "cell_type": "markdown",
   "metadata": {},
   "source": [
    "It is an abstract data type (interface)\n",
    "\n",
    "Basic operations: pop(), push() and peek()\n",
    "\n",
    "LIFO structure: last in first out \n",
    "\n",
    "In most high level languages, a stack can be easily implemented either with arrays or linked lists\n",
    "\n",
    "A number of programming languages are stack-oriented, meaning they define most basic operations (adding two numbers, printing a character) as taking their arguments from the stack, and placing any return values back on the stack"
   ]
  },
  {
   "cell_type": "markdown",
   "metadata": {},
   "source": [
    "Push operation: put the given item to the top of the stack\n",
    "\tVery simple operation, can be done in O(1)"
   ]
  },
  {
   "cell_type": "markdown",
   "metadata": {},
   "source": [
    "Pop operation: we take the last item we have inserted to the top of the stack (LIFO)\n",
    "\tVery simple operation, can be done in O(1)"
   ]
  },
  {
   "cell_type": "markdown",
   "metadata": {},
   "source": [
    "Peek operation: return the item from the top of the stack without removing it\n",
    "\tVery simple operation, can be done in O(1)"
   ]
  },
  {
   "cell_type": "markdown",
   "metadata": {},
   "source": [
    "Applications:\n",
    "    \n",
    "In stack-oriented programming languages\n",
    "\n",
    "Graph algorithms: depth-first search can be implemented with stacks ( or with recursion )\n",
    "    \n",
    "Finding Euler-cycles in a graph\n",
    "\n",
    "Finding strongly connected components in a graph"
   ]
  },
  {
   "cell_type": "code",
   "execution_count": 4,
   "metadata": {},
   "outputs": [
    {
     "name": "stdout",
     "output_type": "stream",
     "text": [
      "3\n",
      "Popped:  3\n",
      "Popped:  2\n",
      "1\n",
      "Peek: 1\n",
      "1\n"
     ]
    }
   ],
   "source": [
    "\n",
    "class Stack:\n",
    "\n",
    "\tdef __init__(self):\n",
    "\t\tself.stack = []\n",
    "\t\t\n",
    "\tdef isEmpty(self):\n",
    "\t\treturn self.stack == []\n",
    "\t\t\n",
    "\tdef push(self, data):\n",
    "\t\tself.stack.append(data)\n",
    "\t\t\n",
    "\tdef pop(self):\n",
    "\t\tdata = self.stack[-1]\n",
    "\t\tdel self.stack[-1]\n",
    "\t\treturn data\n",
    "\t\t\n",
    "\tdef peek(self):\n",
    "\t\treturn self.stack[-1]\n",
    "\t\t\n",
    "\tdef sizeStack(self):\n",
    "\t\treturn len(self.stack)\n",
    "\t\t\n",
    "stack = Stack()\n",
    "stack.push(1)\n",
    "stack.push(2)\n",
    "stack.push(3)\n",
    "\n",
    "print(stack.sizeStack())\n",
    "\n",
    "print(\"Popped: \", stack.pop())\n",
    "print(\"Popped: \", stack.pop())\n",
    "\n",
    "print(stack.sizeStack())\n",
    "\n",
    "print(\"Peek:\", stack.peek())\n",
    "print(stack.sizeStack())"
   ]
  },
  {
   "cell_type": "markdown",
   "metadata": {},
   "source": [
    "# Queue"
   ]
  },
  {
   "cell_type": "markdown",
   "metadata": {},
   "source": [
    "It is an abstract data type (interface)\n",
    "\n",
    "Basic operations: enqueue() and dequeue()\n",
    "    \n",
    "FIFO: first in first out\n",
    "    \n",
    "It can be implemented with linked lists\n",
    "\n",
    "Applications: BFS"
   ]
  },
  {
   "cell_type": "markdown",
   "metadata": {},
   "source": [
    "Enqueue operation: we just simply add the new item to the end\n",
    "\tof the queue  "
   ]
  },
  {
   "cell_type": "markdown",
   "metadata": {},
   "source": [
    "Dequeue operation: we just simply remove the item starting at the\n",
    "\tbeginning of the queue  // FIFO structure "
   ]
  },
  {
   "cell_type": "markdown",
   "metadata": {},
   "source": [
    "Applications:\n",
    "\n",
    "When a resource is shared with several consumers ( threads ): we store them in a queue\n",
    "For example: CPU scheduling\n",
    "    \n",
    "When data is transferred asynchronously (data not necessarily received at same rate as sent) between two processes\n",
    "For example:  IO buffers\n",
    "    \n",
    "Operational research applications or stochastic models relies heavily on queues !!!"
   ]
  },
  {
   "cell_type": "code",
   "execution_count": 5,
   "metadata": {},
   "outputs": [
    {
     "name": "stdout",
     "output_type": "stream",
     "text": [
      "3\n",
      "Dequeue:  10\n",
      "Dequeue:  20\n",
      "1\n"
     ]
    }
   ],
   "source": [
    "\n",
    "#FIFO - first -> first\n",
    "\n",
    "class Queue:\n",
    "\n",
    "\tdef __init__(self):\n",
    "\t\tself.queue = []\n",
    "\t\t\n",
    "\tdef isEmpty(self):\n",
    "\t\treturn self.queue == []\n",
    "\t\t\n",
    "\tdef enqueue(self, data):\n",
    "\t\tself.queue.append(data)\n",
    "\t\t\n",
    "\tdef dequeue(self):\n",
    "\t\tdata = self.queue[0]\n",
    "\t\tdel self.queue[0]\n",
    "\t\treturn data\n",
    "\t\t\n",
    "\tdef peek(self):\n",
    "\t\treturn self.queue[0]\n",
    "\t\t\n",
    "\tdef sizeQueue(self):\n",
    "\t\treturn len(self.queue)\n",
    "\t\n",
    "queue = Queue()\n",
    "queue.enqueue(10)\n",
    "queue.enqueue(20)\n",
    "queue.enqueue(30)\n",
    "\n",
    "print(queue.sizeQueue())\n",
    "\n",
    "print(\"Dequeue: \", queue.dequeue())\n",
    "print(\"Dequeue: \", queue.dequeue())\n",
    "\n",
    "print(queue.sizeQueue())\n"
   ]
  },
  {
   "cell_type": "code",
   "execution_count": null,
   "metadata": {},
   "outputs": [],
   "source": []
  }
 ],
 "metadata": {
  "kernelspec": {
   "display_name": "Python 3",
   "language": "python",
   "name": "python3"
  },
  "language_info": {
   "codemirror_mode": {
    "name": "ipython",
    "version": 3
   },
   "file_extension": ".py",
   "mimetype": "text/x-python",
   "name": "python",
   "nbconvert_exporter": "python",
   "pygments_lexer": "ipython3",
   "version": "3.6.6"
  }
 },
 "nbformat": 4,
 "nbformat_minor": 2
}
