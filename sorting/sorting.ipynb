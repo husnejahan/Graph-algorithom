{
 "cells": [
  {
   "cell_type": "code",
   "execution_count": 1,
   "metadata": {},
   "outputs": [
    {
     "name": "stdout",
     "output_type": "stream",
     "text": [
      "[-1, 0, 0, 0, 0, 1, 1, 2, 2, 3]\n"
     ]
    }
   ],
   "source": [
    "\n",
    "def bubble_sort(nums):\n",
    "    \n",
    "\tfor i in range(len(nums)-1):\n",
    "\t\tfor j in range(0,len(nums)-1-i,1):\n",
    "\t\t\tif nums[j] > nums[j+1]:\n",
    "\t\t\t\tswap(nums, j, j+1)\n",
    "\t\n",
    "\treturn nums\n",
    "\t\n",
    "def swap(nums, i, j):\n",
    "\ttemp = nums[i]\n",
    "\tnums[i] = nums[j]\n",
    "\tnums[j] = temp\n",
    " \n",
    "if __name__ == \"__main__\":\n",
    "   \n",
    "   a = [0,0,0,-1,-0,1,2,3,2,1]\n",
    "   print(bubble_sort(a))\n",
    "  "
   ]
  },
  {
   "cell_type": "code",
   "execution_count": null,
   "metadata": {},
   "outputs": [],
   "source": []
  },
  {
   "cell_type": "code",
   "execution_count": 3,
   "metadata": {},
   "outputs": [
    {
     "name": "stdout",
     "output_type": "stream",
     "text": [
      "[-2, -1, 0, 0, 1, 1, 1, 2, 2, 2, 2, 3, 3, 4, 5]\n"
     ]
    }
   ],
   "source": [
    "\n",
    "def selection_sort(nums):\n",
    "    \n",
    "\tfor i in range(len(nums)-1):\n",
    "\t\t\n",
    "\t\tindex = i\n",
    "\t\t\n",
    "\t\tfor j in range(i+1,len(nums),1):\n",
    "\t\t\tif nums[j] < nums[index]:\n",
    "\t\t\t\tindex = j\n",
    "\t\t\t\n",
    "\t\tif index != i:\n",
    "\t\t\tswap(nums,index,i)\n",
    "\t\t\t\n",
    "\t\n",
    "\treturn nums\n",
    "\t\n",
    "def swap(nums, i, j):\n",
    "\ttemp = nums[i]\n",
    "\tnums[i] = nums[j]\n",
    "\tnums[j] = temp\n",
    " \n",
    "if __name__ == \"__main__\":\n",
    "   \n",
    "   nums = [-1,4,5,2,-2,0,1,2,3,2,1,0,1,2,3]\n",
    "   print(selection_sort(nums))\n",
    "  "
   ]
  },
  {
   "cell_type": "code",
   "execution_count": null,
   "metadata": {},
   "outputs": [],
   "source": []
  },
  {
   "cell_type": "code",
   "execution_count": 2,
   "metadata": {},
   "outputs": [
    {
     "name": "stdout",
     "output_type": "stream",
     "text": [
      "[1, 2, 3, 4, 5]\n"
     ]
    }
   ],
   "source": [
    "\n",
    "def insertion_sort(nums):\n",
    "    \n",
    "\tfor i in range(len(nums)):\n",
    "\t\t\n",
    "\t\tj = i\n",
    "\t\t\n",
    "\t\twhile j>0 and nums[j-1] > nums[j]:\n",
    "\t\t\tswap(nums,j,j-1)\n",
    "\t\t\tj = j - 1\n",
    "\t\n",
    "\treturn nums\n",
    "\t\n",
    "def swap(nums, i, j):\n",
    "\ttemp = nums[i]\n",
    "\tnums[i] = nums[j]\n",
    "\tnums[j] = temp\n",
    " \n",
    "if __name__ == \"__main__\":\n",
    "   \n",
    "   nums = [5,4,3,2,1]\n",
    "   print(insertion_sort(nums))\n",
    "  "
   ]
  },
  {
   "cell_type": "code",
   "execution_count": null,
   "metadata": {},
   "outputs": [],
   "source": []
  },
  {
   "cell_type": "code",
   "execution_count": 4,
   "metadata": {},
   "outputs": [
    {
     "name": "stdout",
     "output_type": "stream",
     "text": [
      "[-2, -2, -1, -1, 0, 0, 1]\n"
     ]
    }
   ],
   "source": [
    " \n",
    "def quick_sort(nums,low,high):\n",
    "    \n",
    "\tif low >= high:\n",
    "\t\treturn\n",
    "\t\t\n",
    "\tpivot_index = partition(nums,low,high)\n",
    "\tquick_sort(nums,low, pivot_index-1)\n",
    "\tquick_sort(nums, pivot_index+1,high)\n",
    "\t\n",
    "\t\n",
    "def partition(nums,low,high):\n",
    "\n",
    "\tpivot_index = (low+high)//2\n",
    "\tswap(nums,pivot_index,high)\n",
    "\t\n",
    "\ti = low\n",
    "\t\n",
    "\tfor j in range(low,high,1):\n",
    "\t\tif nums[j] <= nums[high]:\n",
    "\t\t\tswap(nums,i,j)\n",
    "\t\t\ti = i + 1\n",
    "\t\t\t\n",
    "\tswap(nums,i,high)\n",
    "\t\n",
    "\treturn i\n",
    "\t\n",
    "def swap(nums,i,j):\n",
    "\ttemp = nums[i]\n",
    "\tnums[i] = nums[j]\n",
    "\tnums[j] = temp\n",
    "\t\n",
    "\t\n",
    "if __name__ == \"__main__\":\n",
    "   \n",
    "   nums = [-2,-1,0,1,0,-1,-2]\n",
    "   quick_sort(nums,0,len(nums)-1)\n",
    "   print(nums)\n",
    "  "
   ]
  },
  {
   "cell_type": "code",
   "execution_count": null,
   "metadata": {},
   "outputs": [],
   "source": []
  }
 ],
 "metadata": {
  "kernelspec": {
   "display_name": "Python 3",
   "language": "python",
   "name": "python3"
  },
  "language_info": {
   "codemirror_mode": {
    "name": "ipython",
    "version": 3
   },
   "file_extension": ".py",
   "mimetype": "text/x-python",
   "name": "python",
   "nbconvert_exporter": "python",
   "pygments_lexer": "ipython3",
   "version": "3.6.6"
  }
 },
 "nbformat": 4,
 "nbformat_minor": 2
}
