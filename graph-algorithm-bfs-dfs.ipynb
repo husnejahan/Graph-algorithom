{
 "cells": [
  {
   "cell_type": "markdown",
   "metadata": {},
   "source": [
    "# Breadth-first search"
   ]
  },
  {
   "cell_type": "markdown",
   "metadata": {},
   "source": [
    "#Breadth-first search\n",
    "What is it good for?\n",
    "\n",
    "We have a graph and we want to visit every node  we can do it with BFS\n",
    "\n",
    "We visit every vertex exactly once\n",
    "\n",
    "We visit the neighbours then the neighbours of these new vertices and so on\n",
    "\n",
    "Running time complexity: O(V+E)\n",
    "    \n",
    "Memory complexity is not good: we have to store lots of references\n",
    "    \n",
    "Thats why DFS is usually preferred\n",
    "\n",
    "BUT it constructs a shortest path: Dijkstra algorithm does a BFS if all the edge weights are equal to 1"
   ]
  },
  {
   "cell_type": "markdown",
   "metadata": {},
   "source": [
    "bfs(vertex)\n",
    "\n",
    "\tQueue queue\n",
    "\tvertex set visited true\n",
    "\t queue.enqueue(vertex)\n",
    "\n",
    "\twhile queue not empty\n",
    "\t\tactual = queue.dequeue()\n",
    "\n",
    "\t\tfor v in actual neighbours\n",
    "\t\t\tif v is not visited\n",
    "\t\t\t\tv set visited true\n",
    "\t\t\t\tqueue.enqueue(v)\n",
    "\t\t\t\t\n",
    "\n",
    "                                       ITERATION"
   ]
  },
  {
   "cell_type": "markdown",
   "metadata": {},
   "source": [
    "We have an empty queue at the beginning\n",
    "and we keep checking whether we have visited\n",
    "the given node or not\n",
    "   ~ keep iterating until queue is not empty"
   ]
  },
  {
   "cell_type": "markdown",
   "metadata": {},
   "source": [
    "#Applications:\n",
    "\n",
    "In artificial intelligence / machine learning it can prove to be very important: robots can discover the surrounding more easily with BFS than DFS\n",
    "\n",
    "It is also very important in maximum flow: Edmonds-Karp algorithm uses BFS for finding augmenting paths\n",
    "\n",
    "Cheyen’s algorithm in garbage collection ,it help to maintain active references on the heap memory\n",
    "\n",
    "It uses BFS to detect all the references on the heap\n",
    "\n",
    "Serialization / deserialization of a tree like structure ( for example when order does matter )  it allows the tree to be reconstructed in an efficient manner !!!\n"
   ]
  },
  {
   "cell_type": "code",
   "execution_count": 2,
   "metadata": {},
   "outputs": [
    {
     "name": "stdout",
     "output_type": "stream",
     "text": [
      "A \n",
      "B \n",
      "C \n",
      "D \n",
      "E \n"
     ]
    }
   ],
   "source": [
    "#BreadthFirstSearch\n",
    "\n",
    "class Node(object):\n",
    "\n",
    "    def __init__(self, name):\n",
    "        self.name = name;\n",
    "        self.adjacencyList = [];\n",
    "        self.visited = False;\n",
    "        self.predecessor = None;\n",
    "\n",
    "class BreadthFirstSearch(object):\n",
    "\n",
    "    def bfs(self, startNode):\n",
    "\n",
    "        queue = [];\n",
    "        queue.append(startNode);\n",
    "        startNode.visited = True;\n",
    "\n",
    "# BFS -> queue      DFS --> stack BUT usually we implement it with recursion !!!\n",
    "        while queue:\n",
    "\n",
    "            actualNode = queue.pop(0);\n",
    "            print(\"%s \" % actualNode.name);\n",
    "            \n",
    "            for n in actualNode.adjacencyList:\n",
    "                if not n.visited:\n",
    "                    n.visited = True;\n",
    "                    queue.append(n);\n",
    "\n",
    "node1 = Node(\"A\");\n",
    "node2 = Node(\"B\");\n",
    "node3 = Node(\"C\");\n",
    "node4 = Node(\"D\");\n",
    "node5 = Node(\"E\");\n",
    "\n",
    "node1.adjacencyList.append(node2);\n",
    "node1.adjacencyList.append(node3);\n",
    "node2.adjacencyList.append(node4);\n",
    "node4.adjacencyList.append(node5);\n",
    "\n",
    "bfs = BreadthFirstSearch();\n",
    "bfs.bfs(node1);"
   ]
  },
  {
   "cell_type": "markdown",
   "metadata": {},
   "source": [
    "# Depth-first search"
   ]
  },
  {
   "cell_type": "markdown",
   "metadata": {},
   "source": [
    "Depth-first search is a widely used graph traversal algorithm besides breadth-first search\n",
    "\n",
    "It was investigated as strategy for solving mazes by Trémaux in the 19th century\n",
    "\n",
    "It explores as far as possible along each branch before backtracking // BFS was a layer-by-layer algorithm\n",
    "\n",
    "Time complexity of traversing a graph with DFS: O(V+E)\n",
    "\n",
    "Memory complexity: a bit better than that of BFS !!!"
   ]
  },
  {
   "cell_type": "markdown",
   "metadata": {},
   "source": [
    "dfs(vertex)\n",
    "\n",
    "\tvertex set visited true\n",
    "\tprint vertex\n",
    "\n",
    "\tfor v in vertex neighbours\n",
    "\t\tif v is not visited\n",
    "\t\t\tdfs(v)\n",
    "\n",
    "\n",
    "\t\tRECURSION"
   ]
  },
  {
   "cell_type": "markdown",
   "metadata": {},
   "source": [
    "dfs(vertex)\n",
    "\n",
    "\tStack stack\n",
    "\tvertex set visited true\n",
    "\tstack.push(vertex)\n",
    "\n",
    "\twhile stack not empty\n",
    "\t\tactual = stack.pop()\n",
    "\n",
    "\t\tfor v in actual neighbours\n",
    "\t\t\tif v is not visited\n",
    "\t\t\t\tv set visited true\n",
    "\t\t\t\tstack.push(v)\n",
    "\n",
    "\t\t\t  ITERATION"
   ]
  },
  {
   "cell_type": "markdown",
   "metadata": {},
   "source": [
    "Applications:\n",
    "\n",
    "Topological ordering\n",
    "\n",
    "Kosaraju algorithm for finding strongly connected components in a graph which can be proved to be very important in recommendation systems ( youtube )\n",
    "\n",
    "Detecting cycles ( checking whether a graph is a DAG or not )\n",
    "\n",
    "Generating mazes OR finding way out of a maze"
   ]
  },
  {
   "cell_type": "code",
   "execution_count": 3,
   "metadata": {},
   "outputs": [
    {
     "name": "stdout",
     "output_type": "stream",
     "text": [
      "A \n",
      "B \n",
      "D \n",
      "E \n",
      "C \n"
     ]
    }
   ],
   "source": [
    "# DepthFirstSearch\n",
    "\n",
    "class Node(object):\n",
    "\n",
    "\tdef __init__(self, name):\n",
    "\t\tself.name = name;\n",
    "\t\tself.adjacenciesList = [];\n",
    "\t\tself.visited = False;\n",
    "\t\tself.predecessor = None;\n",
    "\t\t\n",
    "class DepthFirstSearch(object): # BFS -> queue + layer by layer algorithm   DFS -> stack + goes as deep aspossible into the tree !!!\n",
    "\n",
    "\tdef dfs(self, node):\n",
    "\t\n",
    "\t\tnode.visited = True;\n",
    "\t\tprint(\"%s \" % node.name);\n",
    "\t\t\n",
    "\t\tfor n in node.adjacenciesList:\n",
    "\t\t\tif not n.visited:\n",
    "\t\t\t\tself.dfs(n);\n",
    "\t\t\n",
    "\t\n",
    "node1 = Node(\"A\");\n",
    "node2 = Node(\"B\");\n",
    "node3 = Node(\"C\");\n",
    "node4 = Node(\"D\");\n",
    "node5 = Node(\"E\");\t\t\n",
    "\t\n",
    "node1.adjacenciesList.append(node2);\n",
    "node1.adjacenciesList.append(node3);\n",
    "node2.adjacenciesList.append(node4);\n",
    "node4.adjacenciesList.append(node5);\t\n",
    "\n",
    "dfs = DepthFirstSearch();\n",
    "dfs.dfs(node1);"
   ]
  },
  {
   "cell_type": "code",
   "execution_count": null,
   "metadata": {},
   "outputs": [],
   "source": []
  }
 ],
 "metadata": {
  "kernelspec": {
   "display_name": "Python 3",
   "language": "python",
   "name": "python3"
  },
  "language_info": {
   "codemirror_mode": {
    "name": "ipython",
    "version": 3
   },
   "file_extension": ".py",
   "mimetype": "text/x-python",
   "name": "python",
   "nbconvert_exporter": "python",
   "pygments_lexer": "ipython3",
   "version": "3.6.6"
  }
 },
 "nbformat": 4,
 "nbformat_minor": 2
}
